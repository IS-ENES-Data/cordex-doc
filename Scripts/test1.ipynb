{
 "cells": [
  {
   "cell_type": "code",
   "execution_count": 1,
   "metadata": {
    "collapsed": false
   },
   "outputs": [],
   "source": [
    "%load_ext autoreload\n",
    "%autoreload 2\n",
    "import web\n",
    "from IPython.core.display import HTML"
   ]
  },
  {
   "cell_type": "markdown",
   "metadata": {},
   "source": [
    "# HTML Bias CV view\n",
    "\n",
    "showing [\"institution\", \"institute_id\", \"bc_method\", \"bc_method_id\", \n",
    "         \"institute_id\"-\"bc_method_id\", \"terms_of_use\", \"CORDEX_domain\", \n",
    "          \"reference\", \"package\" ]"
   ]
  },
  {
   "cell_type": "code",
   "execution_count": 2,
   "metadata": {
    "collapsed": true
   },
   "outputs": [],
   "source": [
    "result = web.jsonfile_to_dict(\"/home/stephan/Repos/ENES-EUDAT/cordex/CORDEX_adjust_register.json\")"
   ]
  },
  {
   "cell_type": "code",
   "execution_count": 4,
   "metadata": {
    "collapsed": false
   },
   "outputs": [
    {
     "data": {
      "text/html": [
       "\n",
       "    <!DOCTYPE html>\n",
       "       \n",
       "<html>\n",
       "\n",
       "</head>    \n",
       "    \n",
       "    \n",
       "    <body>\n",
       "    \n",
       "    <h1> CORDEX bias correction methods summary </h1>\n",
       "    <p> Information automatically generated based on controled vocabulary </p>\n",
       "    <p> To register new vocabulary items please contact cordex-registration /at/ cordex.org  </p>\n",
       "    \n",
       "    \n",
       "    <table border=\"1\">\n",
       "      <tr>\n",
       "        <th>Institution</th>\n",
       "        <th>Institute_ID</th>\n",
       "        <th>Bias Adjustment</th>\n",
       "        <th>Bias Adjustment ID</th>\n",
       "        <th>Bias Adjustment Name</th>\n",
       "        <th>Terms_of_Use</th>\n",
       "        <th>CORDEX Domain</th>\n",
       "       \n",
       "       \n",
       "          \n",
       "          \n",
       "        <tr>\n",
       "        <td>Swedish Meteorological and Hydrological Institute</td>\n",
       "        <td>SMHI</td>\n",
       "        <td>Distribution-Based Scaling</td>\n",
       "        <td>DBS45</td>\n",
       "        <td>SMHI-DBS45</td>\n",
       "        <td>unrestricted</td>\n",
       "        <td>EUR-44; EUR-11; AFR-44; WAS-44</td>\n",
       "    \n",
       "        \n",
       "        </tr>\n",
       "        <tr>\n",
       "        <td>Meteorology Group, Universidad de Cantabria</td>\n",
       "        <td>UCAN</td>\n",
       "        <td>Seasonally Adjusted Empirical Quantile Mapping</td>\n",
       "        <td>EQM</td>\n",
       "        <td>UCAN-EQM</td>\n",
       "        <td>unrestricted</td>\n",
       "        <td>EUR-44; EUR-11; AFR-44</td>\n",
       "    \n",
       "        \n",
       "        </tr>\n",
       "        <tr>\n",
       "        <td>Technical University of Crete</td>\n",
       "        <td>TUC</td>\n",
       "        <td>Multisegment Statistical Bias correction</td>\n",
       "        <td>MSBC</td>\n",
       "        <td>TUC-MSBC</td>\n",
       "        <td>non-commercial</td>\n",
       "        <td>EUR-44; EUR-11; AFR-44; WAS-44</td>\n",
       "    \n",
       "        \n",
       "        </tr>\n",
       "        <tr>\n",
       "        <td>Norwegian Meteorological Institute</td>\n",
       "        <td>METNO</td>\n",
       "        <td>Quantile mapping</td>\n",
       "        <td>QMAP</td>\n",
       "        <td>METNO-QMAP</td>\n",
       "        <td>unrestricted</td>\n",
       "        <td>EUR-44; EUR-11</td>\n",
       "    \n",
       "        \n",
       "        </tr>\n",
       "        <tr>\n",
       "        <td>Meteorology Group, Universidad de Cantabria</td>\n",
       "        <td>UCAN</td>\n",
       "        <td>ISI-MIP</td>\n",
       "        <td>ISI-MIP</td>\n",
       "        <td>UCAN-ISI-MIP</td>\n",
       "        <td>unrestricted</td>\n",
       "        <td>EUR-44; EUR-11; AFR-44</td>\n",
       "    \n",
       "        \n",
       "        </tr>\n",
       "      </tr>\n",
       "    </table>\n",
       "    \n",
       "    \n",
       "    </body>\n",
       "    </html>\n",
       "    "
      ],
      "text/plain": [
       "<IPython.core.display.HTML object>"
      ]
     },
     "execution_count": 4,
     "metadata": {},
     "output_type": "execute_result"
    }
   ],
   "source": [
    "html_out = web.generate_bias_table(result)\n",
    "HTML(html_out)"
   ]
  },
  {
   "cell_type": "markdown",
   "metadata": {
    "collapsed": true
   },
   "source": [
    "# HTML bias CV view separated in 2 tables"
   ]
  },
  {
   "cell_type": "code",
   "execution_count": null,
   "metadata": {
    "collapsed": false
   },
   "outputs": [],
   "source": [
    "html_out = web.generate_bias_table(result)\n",
    "HTML(html_out)"
   ]
  },
  {
   "cell_type": "code",
   "execution_count": null,
   "metadata": {
    "collapsed": false
   },
   "outputs": [],
   "source": [
    "html_out = web.generate_bias_table_add(result)\n",
    "HTML(html_out)"
   ]
  },
  {
   "cell_type": "code",
   "execution_count": null,
   "metadata": {
    "collapsed": true
   },
   "outputs": [],
   "source": []
  }
 ],
 "metadata": {
  "anaconda-cloud": {},
  "kernelspec": {
   "display_name": "Python [default]",
   "language": "python",
   "name": "python2"
  },
  "language_info": {
   "codemirror_mode": {
    "name": "ipython",
    "version": 2
   },
   "file_extension": ".py",
   "mimetype": "text/x-python",
   "name": "python",
   "nbconvert_exporter": "python",
   "pygments_lexer": "ipython2",
   "version": "2.7.11"
  }
 },
 "nbformat": 4,
 "nbformat_minor": 0
}
